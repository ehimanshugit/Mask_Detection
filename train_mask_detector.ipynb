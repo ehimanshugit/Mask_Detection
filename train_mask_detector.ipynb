{
 "cells": [
  {
   "cell_type": "code",
   "execution_count": 1,
   "metadata": {},
   "outputs": [],
   "source": [
    "from tensorflow.keras.preprocessing.image import ImageDataGenerator\n",
    "from tensorflow.keras.applications import MobileNetV2\n",
    "from tensorflow.keras.layers import AveragePooling2D\n",
    "from tensorflow.keras.layers import Dropout\n",
    "from tensorflow.keras.layers import Flatten\n",
    "from tensorflow.keras.layers import Dense\n",
    "from tensorflow.keras.layers import Input\n",
    "from tensorflow.keras.models import Model\n",
    "from tensorflow.keras.optimizers import Adam\n",
    "from tensorflow.keras.applications.mobilenet_v2 import preprocess_input\n",
    "from tensorflow.keras.preprocessing.image import img_to_array\n",
    "from tensorflow.keras.preprocessing.image import load_img\n",
    "from tensorflow.keras.utils import to_categorical\n",
    "from sklearn.preprocessing import LabelBinarizer\n",
    "from sklearn.model_selection import train_test_split\n",
    "from sklearn.metrics import classification_report\n",
    "from imutils import paths\n",
    "import matplotlib.pyplot as plt\n",
    "import numpy as np\n",
    "import argparse\n",
    "import os"
   ]
  },
  {
   "cell_type": "code",
   "execution_count": 2,
   "metadata": {},
   "outputs": [],
   "source": [
    "ap = argparse.ArgumentParser()\n",
    "ap.add_argument(\"-d\", \"--dataset\",help=\"path to input dataset\")\n",
    "ap.add_argument(\"-p\", \"--plot\", type=str, default=\"plot.png\",\n",
    "\thelp=\"path to output loss/accuracy plot\")\n",
    "ap.add_argument(\"-m\", \"--model\", type=str,\n",
    "\tdefault=\"mask_detector.model\",\n",
    "\thelp=\"path to output face mask detector model\")\n",
    "args = vars(ap.parse_args(args=[]))"
   ]
  },
  {
   "cell_type": "code",
   "execution_count": 3,
   "metadata": {},
   "outputs": [],
   "source": [
    "INIT_LR = 1e-4\n",
    "EPOCHS = 20\n",
    "BS = 32"
   ]
  },
  {
   "cell_type": "code",
   "execution_count": 4,
   "metadata": {},
   "outputs": [],
   "source": [
    "imagePaths = list(paths.list_images(r\"C:\\Users\\Himanshu\\Desktop\\docs\\Computer vision project\\face-mask-detector\\Practice\\dataset\"))"
   ]
  },
  {
   "cell_type": "code",
   "execution_count": 5,
   "metadata": {},
   "outputs": [],
   "source": [
    "data = []\n",
    "labels = []"
   ]
  },
  {
   "cell_type": "code",
   "execution_count": 6,
   "metadata": {},
   "outputs": [],
   "source": [
    "for imagePath in imagePaths:\n",
    "\t# extract the class label from the filename\n",
    "\tlabel = imagePath.split(os.path.sep)[-2]\n",
    "\n",
    "\t# load the input image (224x224) and preprocess it\n",
    "\timage = load_img(imagePath, target_size=(224, 224))\n",
    "\timage = img_to_array(image)\n",
    "\timage = preprocess_input(image)\n",
    "\n",
    "\t# update the data and labels lists, respectively\n",
    "\tdata.append(image)\n",
    "\tlabels.append(label)"
   ]
  },
  {
   "cell_type": "code",
   "execution_count": 7,
   "metadata": {},
   "outputs": [],
   "source": [
    "data = np.array(data, dtype=\"float32\")\n",
    "labels = np.array(labels)"
   ]
  },
  {
   "cell_type": "code",
   "execution_count": 8,
   "metadata": {},
   "outputs": [],
   "source": [
    "lb = LabelBinarizer()\n",
    "labels = lb.fit_transform(labels)\n",
    "labels = to_categorical(labels)"
   ]
  },
  {
   "cell_type": "code",
   "execution_count": 9,
   "metadata": {},
   "outputs": [],
   "source": [
    "(trainX, testX, trainY, testY) = train_test_split(data, labels,\n",
    "\ttest_size=0.20, stratify=labels, random_state=42)"
   ]
  },
  {
   "cell_type": "code",
   "execution_count": 10,
   "metadata": {},
   "outputs": [],
   "source": [
    "aug = ImageDataGenerator(\n",
    "\trotation_range=20,\n",
    "\tzoom_range=0.15,\n",
    "\twidth_shift_range=0.2,\n",
    "\theight_shift_range=0.2,\n",
    "\tshear_range=0.15,\n",
    "\thorizontal_flip=True,\n",
    "\tfill_mode=\"nearest\")"
   ]
  },
  {
   "cell_type": "code",
   "execution_count": 11,
   "metadata": {},
   "outputs": [
    {
     "name": "stdout",
     "output_type": "stream",
     "text": [
      "WARNING:tensorflow:From C:\\Users\\Himanshu\\Anaconda3\\envs\\tensorflow\\lib\\site-packages\\tensorflow_core\\python\\ops\\resource_variable_ops.py:1630: calling BaseResourceVariable.__init__ (from tensorflow.python.ops.resource_variable_ops) with constraint is deprecated and will be removed in a future version.\n",
      "Instructions for updating:\n",
      "If using Keras pass *_constraint arguments to layers.\n"
     ]
    },
    {
     "name": "stderr",
     "output_type": "stream",
     "text": [
      "C:\\Users\\Himanshu\\Anaconda3\\envs\\tensorflow\\lib\\site-packages\\keras_applications\\mobilenet_v2.py:294: UserWarning: `input_shape` is undefined or non-square, or `rows` is not in [96, 128, 160, 192, 224]. Weights for input shape (224, 224) will be loaded as the default.\n",
      "  warnings.warn('`input_shape` is undefined or non-square, '\n"
     ]
    }
   ],
   "source": [
    "baseModel = MobileNetV2(weights=\"imagenet\", include_top=False,\n",
    "\tinput_tensor=Input(shape=(224, 224, 3)))"
   ]
  },
  {
   "cell_type": "code",
   "execution_count": 12,
   "metadata": {},
   "outputs": [],
   "source": [
    "headModel = baseModel.output\n",
    "headModel = AveragePooling2D(pool_size=(7, 7))(headModel)\n",
    "headModel = Flatten(name=\"flatten\")(headModel)\n",
    "headModel = Dense(128, activation=\"relu\")(headModel)\n",
    "headModel = Dropout(0.5)(headModel)\n",
    "headModel = Dense(2, activation=\"softmax\")(headModel)"
   ]
  },
  {
   "cell_type": "code",
   "execution_count": 13,
   "metadata": {},
   "outputs": [],
   "source": [
    "model = Model(inputs=baseModel.input, outputs=headModel)"
   ]
  },
  {
   "cell_type": "code",
   "execution_count": 14,
   "metadata": {},
   "outputs": [],
   "source": [
    "for layer in baseModel.layers:\n",
    "\tlayer.trainable = False"
   ]
  },
  {
   "cell_type": "code",
   "execution_count": 15,
   "metadata": {},
   "outputs": [
    {
     "name": "stdout",
     "output_type": "stream",
     "text": [
      "[INFO] compiling model...\n"
     ]
    }
   ],
   "source": [
    "print(\"[INFO] compiling model...\")\n",
    "opt = Adam(lr=INIT_LR, decay=INIT_LR / EPOCHS)\n",
    "model.compile(loss=\"binary_crossentropy\", optimizer=opt,\n",
    "\tmetrics=[\"accuracy\"])"
   ]
  },
  {
   "cell_type": "code",
   "execution_count": 16,
   "metadata": {},
   "outputs": [
    {
     "name": "stdout",
     "output_type": "stream",
     "text": [
      "[INFO] training head...\n",
      "Epoch 1/20\n",
      "WARNING:tensorflow:From C:\\Users\\Himanshu\\Anaconda3\\envs\\tensorflow\\lib\\site-packages\\tensorflow_core\\python\\ops\\math_grad.py:1424: where (from tensorflow.python.ops.array_ops) is deprecated and will be removed in a future version.\n",
      "Instructions for updating:\n",
      "Use tf.where in 2.0, which has the same broadcast rule as np.where\n",
      "33/34 [============================>.] - ETA: 2s - loss: 0.6104 - acc: 0.6766Epoch 1/20\n",
      "276/34 [===================================================================================================================================================================================================================================================] - 22s 81ms/sample - loss: 0.3878 - acc: 0.8478\n",
      "34/34 [==============================] - 120s 4s/step - loss: 0.6112 - acc: 0.6770 - val_loss: 0.3897 - val_acc: 0.8478\n",
      "Epoch 2/20\n",
      "33/34 [============================>.] - ETA: 2s - loss: 0.3716 - acc: 0.8378Epoch 1/20\n",
      "276/34 [===================================================================================================================================================================================================================================================] - 22s 79ms/sample - loss: 0.2484 - acc: 0.9348\n",
      "34/34 [==============================] - 117s 3s/step - loss: 0.3715 - acc: 0.8380 - val_loss: 0.2341 - val_acc: 0.9348\n",
      "Epoch 3/20\n",
      "33/34 [============================>.] - ETA: 3s - loss: 0.2983 - acc: 0.8842Epoch 1/20\n",
      "276/34 [===================================================================================================================================================================================================================================================] - 23s 84ms/sample - loss: 0.1804 - acc: 0.9710\n",
      "34/34 [==============================] - 125s 4s/step - loss: 0.2992 - acc: 0.8839 - val_loss: 0.1649 - val_acc: 0.9710\n",
      "Epoch 4/20\n",
      "33/34 [============================>.] - ETA: 2s - loss: 0.2190 - acc: 0.9228Epoch 1/20\n",
      "276/34 [===================================================================================================================================================================================================================================================] - 21s 78ms/sample - loss: 0.1462 - acc: 0.9710\n",
      "34/34 [==============================] - 118s 3s/step - loss: 0.2165 - acc: 0.9242 - val_loss: 0.1290 - val_acc: 0.9710\n",
      "Epoch 5/20\n",
      "33/34 [============================>.] - ETA: 2s - loss: 0.2176 - acc: 0.9131Epoch 1/20\n",
      "276/34 [===================================================================================================================================================================================================================================================] - 24s 88ms/sample - loss: 0.1253 - acc: 0.9710\n",
      "34/34 [==============================] - 120s 4s/step - loss: 0.2183 - acc: 0.9110 - val_loss: 0.1080 - val_acc: 0.9710\n",
      "Epoch 6/20\n",
      "33/34 [============================>.] - ETA: 2s - loss: 0.1771 - acc: 0.9373Epoch 1/20\n",
      "276/34 [===================================================================================================================================================================================================================================================] - 22s 80ms/sample - loss: 0.1062 - acc: 0.9783\n",
      "34/34 [==============================] - 117s 3s/step - loss: 0.1770 - acc: 0.9363 - val_loss: 0.0950 - val_acc: 0.9783\n",
      "Epoch 7/20\n",
      "33/34 [============================>.] - ETA: 2s - loss: 0.1595 - acc: 0.9382Epoch 1/20\n",
      "276/34 [===================================================================================================================================================================================================================================================] - 22s 81ms/sample - loss: 0.1153 - acc: 0.9674\n",
      "34/34 [==============================] - 119s 3s/step - loss: 0.1584 - acc: 0.9391 - val_loss: 0.1118 - val_acc: 0.9674\n",
      "Epoch 8/20\n",
      "33/34 [============================>.] - ETA: 2s - loss: 0.1569 - acc: 0.9451Epoch 1/20\n",
      "276/34 [===================================================================================================================================================================================================================================================] - 22s 79ms/sample - loss: 0.0880 - acc: 0.9746\n",
      "34/34 [==============================] - 123s 4s/step - loss: 0.1553 - acc: 0.9458 - val_loss: 0.0798 - val_acc: 0.9746\n",
      "Epoch 9/20\n",
      "33/34 [============================>.] - ETA: 2s - loss: 0.1420 - acc: 0.9469Epoch 1/20\n",
      "276/34 [===================================================================================================================================================================================================================================================] - 24s 86ms/sample - loss: 0.0818 - acc: 0.9783\n",
      "34/34 [==============================] - 116s 3s/step - loss: 0.1395 - acc: 0.9485 - val_loss: 0.0773 - val_acc: 0.9783\n",
      "Epoch 10/20\n",
      "33/34 [============================>.] - ETA: 2s - loss: 0.1340 - acc: 0.9545Epoch 1/20\n",
      "276/34 [===================================================================================================================================================================================================================================================] - 22s 81ms/sample - loss: 0.0868 - acc: 0.9783\n",
      "34/34 [==============================] - 121s 4s/step - loss: 0.1330 - acc: 0.9550 - val_loss: 0.0868 - val_acc: 0.9783\n",
      "Epoch 11/20\n",
      "33/34 [============================>.] - ETA: 2s - loss: 0.1225 - acc: 0.9517Epoch 1/20\n",
      "276/34 [===================================================================================================================================================================================================================================================] - 23s 82ms/sample - loss: 0.0618 - acc: 0.9710\n",
      "34/34 [==============================] - 115s 3s/step - loss: 0.1301 - acc: 0.9485 - val_loss: 0.0849 - val_acc: 0.9710\n",
      "Epoch 12/20\n",
      "33/34 [============================>.] - ETA: 2s - loss: 0.1194 - acc: 0.9479Epoch 1/20\n",
      "276/34 [===================================================================================================================================================================================================================================================] - 22s 79ms/sample - loss: 0.0771 - acc: 0.9783\n",
      "34/34 [==============================] - 118s 3s/step - loss: 0.1177 - acc: 0.9494 - val_loss: 0.0780 - val_acc: 0.9783\n",
      "Epoch 13/20\n",
      "33/34 [============================>.] - ETA: 3s - loss: 0.1252 - acc: 0.9488Epoch 1/20\n",
      "276/34 [===================================================================================================================================================================================================================================================] - 22s 79ms/sample - loss: 0.0670 - acc: 0.9819\n",
      "34/34 [==============================] - 128s 4s/step - loss: 0.1266 - acc: 0.9485 - val_loss: 0.0604 - val_acc: 0.9819\n",
      "Epoch 14/20\n",
      "33/34 [============================>.] - ETA: 2s - loss: 0.1057 - acc: 0.9640Epoch 1/20\n",
      "276/34 [===================================================================================================================================================================================================================================================] - 24s 87ms/sample - loss: 0.0643 - acc: 0.9746\n",
      "34/34 [==============================] - 124s 4s/step - loss: 0.1074 - acc: 0.9632 - val_loss: 0.0645 - val_acc: 0.9746\n",
      "Epoch 15/20\n",
      "33/34 [============================>.] - ETA: 2s - loss: 0.0907 - acc: 0.9626Epoch 1/20\n",
      "276/34 [===================================================================================================================================================================================================================================================] - 22s 80ms/sample - loss: 0.0574 - acc: 0.9783\n",
      "34/34 [==============================] - 118s 3s/step - loss: 0.0911 - acc: 0.9628 - val_loss: 0.0586 - val_acc: 0.9783\n",
      "Epoch 16/20\n"
     ]
    },
    {
     "name": "stdout",
     "output_type": "stream",
     "text": [
      "33/34 [============================>.] - ETA: 2s - loss: 0.0935 - acc: 0.9669Epoch 1/20\n",
      "276/34 [===================================================================================================================================================================================================================================================] - 22s 81ms/sample - loss: 0.0630 - acc: 0.9783\n",
      "34/34 [==============================] - 118s 3s/step - loss: 0.0944 - acc: 0.9660 - val_loss: 0.0749 - val_acc: 0.9783\n",
      "Epoch 17/20\n",
      "33/34 [============================>.] - ETA: 2s - loss: 0.0833 - acc: 0.9739Epoch 1/20\n",
      "276/34 [===================================================================================================================================================================================================================================================] - 24s 86ms/sample - loss: 0.0539 - acc: 0.9783\n",
      "34/34 [==============================] - 119s 4s/step - loss: 0.0835 - acc: 0.9738 - val_loss: 0.0537 - val_acc: 0.9783\n",
      "Epoch 18/20\n",
      "33/34 [============================>.] - ETA: 2s - loss: 0.0829 - acc: 0.9705Epoch 1/20\n",
      "276/34 [===================================================================================================================================================================================================================================================] - 22s 81ms/sample - loss: 0.0741 - acc: 0.9710\n",
      "34/34 [==============================] - 117s 3s/step - loss: 0.0824 - acc: 0.9714 - val_loss: 0.0941 - val_acc: 0.9710\n",
      "Epoch 19/20\n",
      "33/34 [============================>.] - ETA: 2s - loss: 0.0843 - acc: 0.9633Epoch 1/20\n",
      "276/34 [===================================================================================================================================================================================================================================================] - 23s 83ms/sample - loss: 0.0505 - acc: 0.9746\n",
      "34/34 [==============================] - 118s 3s/step - loss: 0.0828 - acc: 0.9644 - val_loss: 0.0596 - val_acc: 0.9746\n",
      "Epoch 20/20\n",
      "33/34 [============================>.] - ETA: 2s - loss: 0.0840 - acc: 0.9662Epoch 1/20\n",
      "276/34 [===================================================================================================================================================================================================================================================] - 22s 81ms/sample - loss: 0.0510 - acc: 0.9783\n",
      "34/34 [==============================] - 119s 4s/step - loss: 0.0833 - acc: 0.9663 - val_loss: 0.0643 - val_acc: 0.9783\n"
     ]
    }
   ],
   "source": [
    "print(\"[INFO] training head...\")\n",
    "H = model.fit(\n",
    "\taug.flow(trainX, trainY, batch_size=BS),\n",
    "\tsteps_per_epoch=len(trainX) // BS,\n",
    "\tvalidation_data=(testX, testY),\n",
    "\tvalidation_steps=len(testX) // BS,\n",
    "\tepochs=EPOCHS)"
   ]
  },
  {
   "cell_type": "code",
   "execution_count": 17,
   "metadata": {},
   "outputs": [
    {
     "name": "stdout",
     "output_type": "stream",
     "text": [
      "[INFO] evaluating network...\n"
     ]
    }
   ],
   "source": [
    "print(\"[INFO] evaluating network...\")\n",
    "predIdxs = model.predict(testX, batch_size=BS)"
   ]
  },
  {
   "cell_type": "code",
   "execution_count": 18,
   "metadata": {},
   "outputs": [],
   "source": [
    "predIdxs = np.argmax(predIdxs, axis=1)"
   ]
  },
  {
   "cell_type": "code",
   "execution_count": 19,
   "metadata": {},
   "outputs": [
    {
     "name": "stdout",
     "output_type": "stream",
     "text": [
      "              precision    recall  f1-score   support\n",
      "\n",
      "   with_mask       0.96      1.00      0.98       138\n",
      "without_mask       1.00      0.96      0.98       138\n",
      "\n",
      "    accuracy                           0.98       276\n",
      "   macro avg       0.98      0.98      0.98       276\n",
      "weighted avg       0.98      0.98      0.98       276\n",
      "\n"
     ]
    }
   ],
   "source": [
    "print(classification_report(testY.argmax(axis=1), predIdxs,\n",
    "\ttarget_names=lb.classes_))"
   ]
  },
  {
   "cell_type": "code",
   "execution_count": 20,
   "metadata": {},
   "outputs": [
    {
     "name": "stdout",
     "output_type": "stream",
     "text": [
      "[INFO] saving mask detector model...\n"
     ]
    }
   ],
   "source": [
    "print(\"[INFO] saving mask detector model...\")\n",
    "model.save(args[\"model\"], save_format=\"h5\")"
   ]
  },
  {
   "cell_type": "code",
   "execution_count": 22,
   "metadata": {},
   "outputs": [
    {
     "data": {
      "image/png": "[encoded data removed]",
      "text/plain": [
       "<Figure size 432x288 with 1 Axes>"
      ]
     },
     "metadata": {},
     "output_type": "display_data"
    }
   ],
   "source": [
    "N = EPOCHS\n",
    "plt.style.use(\"ggplot\")\n",
    "plt.figure()\n",
    "plt.plot(np.arange(0, N), H.history[\"loss\"], label=\"train_loss\")\n",
    "plt.plot(np.arange(0, N), H.history[\"val_loss\"], label=\"val_loss\")\n",
    "plt.plot(np.arange(0, N), H.history[\"acc\"], label=\"train_acc\")\n",
    "plt.plot(np.arange(0, N), H.history[\"val_acc\"], label=\"val_acc\")\n",
    "plt.title(\"Training Loss and Accuracy\")\n",
    "plt.xlabel(\"Epoch #\")\n",
    "plt.ylabel(\"Loss/Accuracy\")\n",
    "plt.legend(loc=\"lower left\")\n",
    "plt.savefig(args[\"plot\"])"
   ]
  },
  {
   "cell_type": "code",
   "execution_count": null,
   "metadata": {},
   "outputs": [],
   "source": []
  }
 ],
 "metadata": {
  "kernelspec": {
   "display_name": "Python 3",
   "language": "python",
   "name": "python3"
  },
  "language_info": {
   "codemirror_mode": {
    "name": "ipython",
    "version": 3
   },
   "file_extension": ".py",
   "mimetype": "text/x-python",
   "name": "python",
   "nbconvert_exporter": "python",
   "pygments_lexer": "ipython3",
   "version": "3.7.5"
  }
 },
 "nbformat": 4,
 "nbformat_minor": 2
}
